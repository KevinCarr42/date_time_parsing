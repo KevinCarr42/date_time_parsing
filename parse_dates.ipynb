{
 "cells": [
  {
   "cell_type": "code",
   "execution_count": 23,
   "metadata": {},
   "outputs": [],
   "source": [
    "import pandas as pd\n",
    "import numpy as np"
   ]
  },
  {
   "cell_type": "markdown",
   "metadata": {},
   "source": [
    "### generate data"
   ]
  },
  {
   "cell_type": "code",
   "execution_count": 9,
   "metadata": {},
   "outputs": [],
   "source": [
    "dates = pd.date_range(start='2024-01-01', end='2024-12-31')\n",
    "random_numbers = np.round(np.random.rand(len(dates)),5)\n",
    "date_formats = {\n",
    "    'yyyymmdd': '%Y/%m/%d',\n",
    "    'yyyyddmm': '%Y/%d/%m',\n",
    "    'mmddyyyy': '%m/%d/%Y',\n",
    "    'ddmmyyyy': '%d/%m/%Y',\n",
    "}\n",
    "\n",
    "for name, datetype in date_formats.items():\n",
    "    df = pd.DataFrame({'dates': dates, 'otherstuff': random_numbers})\n",
    "    df['dates'] = df['dates'].dt.strftime(datetype)\n",
    "    df.to_csv(f'data/{name}.csv', index=False)\n",
    "\n",
    "    with pd.ExcelWriter(f'data/{name}.xlsx', date_format=datetype, datetime_format=datetype) as writer:\n",
    "        df.to_excel(writer, index=False)"
   ]
  },
  {
   "cell_type": "markdown",
   "metadata": {},
   "source": [
    "### parse that data"
   ]
  },
  {
   "cell_type": "code",
   "execution_count": 10,
   "metadata": {},
   "outputs": [
    {
     "data": {
      "text/plain": [
       "'yyyymmdd'"
      ]
     },
     "execution_count": 10,
     "metadata": {},
     "output_type": "execute_result"
    }
   ],
   "source": [
    "list(date_formats.keys())[0]"
   ]
  },
  {
   "cell_type": "code",
   "execution_count": 41,
   "metadata": {},
   "outputs": [
    {
     "data": {
      "text/plain": [
       "dates          object\n",
       "otherstuff    float64\n",
       "dtype: object"
      ]
     },
     "metadata": {},
     "output_type": "display_data"
    },
    {
     "name": "stdout",
     "output_type": "stream",
     "text": [
      "yyyymmdd\n"
     ]
    },
    {
     "data": {
      "text/plain": [
       "dates          object\n",
       "otherstuff    float64\n",
       "dtype: object"
      ]
     },
     "metadata": {},
     "output_type": "display_data"
    },
    {
     "name": "stdout",
     "output_type": "stream",
     "text": [
      "yyyyddmm\n"
     ]
    },
    {
     "data": {
      "text/plain": [
       "dates          object\n",
       "otherstuff    float64\n",
       "dtype: object"
      ]
     },
     "metadata": {},
     "output_type": "display_data"
    },
    {
     "name": "stdout",
     "output_type": "stream",
     "text": [
      "mmddyyyy\n"
     ]
    },
    {
     "data": {
      "text/plain": [
       "dates          object\n",
       "otherstuff    float64\n",
       "dtype: object"
      ]
     },
     "metadata": {},
     "output_type": "display_data"
    },
    {
     "name": "stdout",
     "output_type": "stream",
     "text": [
      "ddmmyyyy\n"
     ]
    }
   ],
   "source": [
    "dfs_csv = dict()\n",
    "for datetype in date_formats:\n",
    "    dfs_csv[datetype] = pd.read_csv(f'data/{datetype}.csv')\n",
    "    display(dfs_csv[datetype].dtypes)\n",
    "    print(datetype)"
   ]
  },
  {
   "cell_type": "markdown",
   "metadata": {},
   "source": [
    "### ugly solution"
   ]
  },
  {
   "cell_type": "code",
   "execution_count": 47,
   "metadata": {},
   "outputs": [
    {
     "name": "stdout",
     "output_type": "stream",
     "text": [
      "default\n",
      "dayfirst\n"
     ]
    }
   ],
   "source": [
    "# relevant imports\n",
    "import warnings\n",
    "warnings.filterwarnings(\"error\")\n",
    "\n",
    "datetype = list(date_formats.keys())[1]\n",
    "try:\n",
    "    print('default')\n",
    "    pd.to_datetime(dfs_csv[datetype]['dates'])\n",
    "except:\n",
    "    try:\n",
    "        print('dayfirst')\n",
    "        pd.to_datetime(dfs_csv[datetype]['dates'], dayfirst=True)\n",
    "    except:\n",
    "        try:\n",
    "            print('yearfirst')\n",
    "            pd.to_datetime(dfs_csv[datetype]['dates'], yearfirst=True)\n",
    "        except:\n",
    "            print('dayfirst and yearfirst')\n",
    "            pd.to_datetime(dfs_csv[datetype]['dates'], dayfirst=True, yearfirst=True)"
   ]
  },
  {
   "cell_type": "markdown",
   "metadata": {},
   "source": [
    "### dateutil helper function\n",
    "- doesn't work, but probably could after reading the documentation and a bunch of bullcrap"
   ]
  },
  {
   "cell_type": "code",
   "execution_count": 53,
   "metadata": {},
   "outputs": [],
   "source": [
    "# relevant imports\n",
    "from dateutil.parser import parse\n",
    "\n",
    "def determine_date_format(date_str):\n",
    "    tokens = date_str.split()\n",
    "    date_parts = tokens[0].split('-')\n",
    "    format_str = []\n",
    "\n",
    "    for part in date_parts:\n",
    "        if len(part) == 4:\n",
    "            format_str.append('%Y')\n",
    "        elif len(part) == 2:\n",
    "            format_str.append('%m' if int(part) <= 12 else '%d')\n",
    "\n",
    "    if len(tokens) > 1:\n",
    "        format_str.append('%H:%M:%S')\n",
    "\n",
    "    return '-'.join(format_str)\n",
    "\n",
    "def find_date_format_pattern(file_path):\n",
    "    df = pd.read_csv(file_path)\n",
    "\n",
    "    for col in df.columns:\n",
    "        try:\n",
    "            # Try to parse the first date in the column\n",
    "            sample_date = parse(str(df[col].dropna().iloc[0]), fuzzy=True)\n",
    "            # If successful, assume this is the date column and proceed\n",
    "            break\n",
    "        except (ValueError, IndexError):\n",
    "            continue\n",
    "    else:\n",
    "        return \"No date column found\"\n",
    "\n",
    "    # Check if all dates in the column match the format\n",
    "    for date in df[col].dropna():\n",
    "        try:\n",
    "            parse(str(date), fuzzy=True)\n",
    "        except ValueError:\n",
    "            return f\"Dates in column '{col}' do not follow a consistent pattern\"\n",
    "\n",
    "    return determine_date_format(str(sample_date))\n"
   ]
  },
  {
   "cell_type": "code",
   "execution_count": 54,
   "metadata": {},
   "outputs": [
    {
     "name": "stdout",
     "output_type": "stream",
     "text": [
      "%Y-%m-%m-%H:%M:%S\n"
     ]
    }
   ],
   "source": [
    "file_path = \"data/yyyymmdd.csv\"\n",
    "print(find_date_format_pattern(file_path))"
   ]
  },
  {
   "cell_type": "code",
   "execution_count": 56,
   "metadata": {},
   "outputs": [],
   "source": [
    "# relevant imports\n",
    "from dateutil.parser import parse\n",
    "\n",
    "file_path = \"data/yyyymmdd.csv\"\n",
    "df = pd.read_csv(file_path)\n",
    "for date in df['dates']:\n",
    "    # find the parse dates format that works for all dates in the entire column\n",
    "    parse(str(date), fuzzy=True)"
   ]
  },
  {
   "cell_type": "code",
   "execution_count": 61,
   "metadata": {},
   "outputs": [],
   "source": [
    "def get_date_format(file_path, column_name):\n",
    "    df = pd.read_csv(file_path)\n",
    "\n",
    "    def infer_format(date_obj):\n",
    "        format_parts = []\n",
    "        if date_obj.year:\n",
    "            format_parts.append('%Y')\n",
    "        if date_obj.month:\n",
    "            format_parts.append('%m')\n",
    "        if date_obj.day:\n",
    "            format_parts.append('%d')\n",
    "        if any([date_obj.hour, date_obj.minute, date_obj.second]):\n",
    "            format_parts.extend(['%H', '%M', '%S'])\n",
    "        return '-'.join(format_parts[:3]) + ' ' + ':'.join(format_parts[3:]).strip()\n",
    "\n",
    "    formats = set()\n",
    "    for date_str in df[column_name]:\n",
    "        try:\n",
    "            date_obj = parse(str(date_str), fuzzy=True)\n",
    "            format_str = infer_format(date_obj)\n",
    "            formats.add(format_str)\n",
    "            if len(formats) > 1:\n",
    "                return \"Inconsistent date formats\"\n",
    "        except ValueError:\n",
    "            return \"Invalid date found\"\n",
    "\n",
    "    return formats.pop() if formats else \"No valid dates found\""
   ]
  },
  {
   "cell_type": "code",
   "execution_count": 62,
   "metadata": {},
   "outputs": [
    {
     "name": "stdout",
     "output_type": "stream",
     "text": [
      "data/yyyymmdd.csv %Y-%m-%d \n",
      "data/yyyyddmm.csv Invalid date found\n",
      "data/mmddyyyy.csv %Y-%m-%d \n",
      "data/ddmmyyyy.csv %Y-%m-%d \n"
     ]
    }
   ],
   "source": [
    "for file in [\"data/yyyymmdd.csv\", \"data/yyyyddmm.csv\", \"data/mmddyyyy.csv\", \"data/ddmmyyyy.csv\"]:\n",
    "    print(file, get_date_format(file, 'dates'))\n",
    "\n",
    "# no"
   ]
  },
  {
   "cell_type": "markdown",
   "metadata": {},
   "source": [
    "### regex"
   ]
  },
  {
   "cell_type": "code",
   "execution_count": 64,
   "metadata": {},
   "outputs": [
    {
     "name": "stdout",
     "output_type": "stream",
     "text": [
      "\\d{1,2}/\\d{1,2}/\\d{\\d{1,2}}\n",
      "\\d{1,2}/\\d{1,2}/\\d{\\d{1,2}}\n",
      "\\d{\\d{1,2}}/\\d{1,2}/\\d{1,2}\n",
      "\\d{\\d{1,2}}/\\d{1,2}/\\d{1,2}\n"
     ]
    }
   ],
   "source": [
    "import re\n",
    "\n",
    "def date_to_regex(date):\n",
    "    regex_pattern = date\n",
    "    regex_pattern = re.sub(r'\\b\\d{4}\\b', r'\\\\d{4}', regex_pattern)  # Year\n",
    "    regex_pattern = re.sub(r'\\b\\d{1,2}\\b', r'\\\\d{1,2}', regex_pattern)  # Month and Day\n",
    "    return regex_pattern\n",
    "\n",
    "def find_common_regex_pattern(file_path, column_name):\n",
    "    df = pd.read_csv(file_path)\n",
    "    patterns = set(df[column_name].apply(date_to_regex))\n",
    "\n",
    "    # Simple approach: Find the longest common substring among all patterns\n",
    "    # This part can be complex based on the diversity of date formats\n",
    "    common_pattern = min(patterns, key=len)  # Starting with the shortest pattern\n",
    "    for pattern in patterns:\n",
    "        if common_pattern not in pattern:\n",
    "            return \"No common pattern found\"\n",
    "    \n",
    "    return common_pattern\n",
    "\n",
    "\n",
    "print(find_common_regex_pattern(\"data/ddmmyyyy.csv\", 'dates'))\n",
    "print(find_common_regex_pattern(\"data/mmddyyyy.csv\", 'dates'))\n",
    "print(find_common_regex_pattern(\"data/yyyyddmm.csv\", 'dates'))\n",
    "print(find_common_regex_pattern(\"data/yyyymmdd.csv\", 'dates'))"
   ]
  }
 ],
 "metadata": {
  "kernelspec": {
   "display_name": "base",
   "language": "python",
   "name": "python3"
  },
  "language_info": {
   "codemirror_mode": {
    "name": "ipython",
    "version": 3
   },
   "file_extension": ".py",
   "mimetype": "text/x-python",
   "name": "python",
   "nbconvert_exporter": "python",
   "pygments_lexer": "ipython3",
   "version": "3.9.7"
  }
 },
 "nbformat": 4,
 "nbformat_minor": 2
}
